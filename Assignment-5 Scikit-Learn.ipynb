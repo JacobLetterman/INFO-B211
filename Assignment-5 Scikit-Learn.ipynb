{
 "cells": [
  {
   "cell_type": "markdown",
   "metadata": {},
   "source": [
    "|**INFO-B211:**|ASSIGNMENT-5|\n",
    "|-|-:|\n",
    "|**STUDENT NAME:**|Jacob Letterman|\n"
   ]
  },
  {
   "cell_type": "markdown",
   "metadata": {},
   "source": [
    "### Question-1: Classification Example (10 marks)\n",
    "\n",
    "- Explore the pima Indian diabetes dataset available at:\n",
    "- https://www.kaggle.com/uciml/pima-indians-diabetes-database\n",
    "\n",
    "    - Get the shape of dataset and print the number of samples and the number columns in this dataset.\n",
    "    - Get the number of features and their names. \n",
    "    - Get the shape of the target variable column.\n",
    "    - Using scikit-learn, develop a machine learning classifier (support vector or k-nearest neighbors or random forest or decision tree classifiers) that can be fit on 80 % of this dataset for learning or training and predict the class of patient either diabetes or not on the remaining 20 % of this dataset.\n",
    "    - Test the performance of your classifier by reporting about the its accuracy, precision, recall and F1-score.\n",
    "    - Print the TP, TN, FP, FN measures from the confusion matrix of the classifier that you have developed."
   ]
  },
  {
   "cell_type": "markdown",
   "metadata": {},
   "source": [
    "### Question-2: Regression Example (10 marks)\n",
    "\n",
    "- Explore the cpu-performance dataset available at:\n",
    "- https://archive.ics.uci.edu/ml/datasets/Computer+Hardware\n",
    "\n",
    "    - Get the shape of the dataset excluding the target variable column.\n",
    "    - Get the number of samples in this dataset?\n",
    "    - Get the number of features and their names. \n",
    "    - Get the shape of the target variable column.\n",
    "    - using scikit-learn, develop a machine learning regression model (support vector for regression (SVR) or linear regression LR) that can be fit on 160 samples of this dataset for learning or training and predict the value of cpu-performance on the remaining samples of this dataset.\n",
    "    - Test the performance of your regression model by reporting about the mean square error and the mean absolute error between the predicted and true values of the target variable for this dataset."
   ]
  },
  {
   "cell_type": "code",
   "execution_count": 4,
   "metadata": {},
   "outputs": [
    {
     "name": "stdout",
     "output_type": "stream",
     "text": [
      "(768, 9)\n",
      "768\n",
      "9\n"
     ]
    }
   ],
   "source": [
    "#Question 1\n",
    "import numpy as np\n",
    "import pandas as pd\n",
    "import sklearn\n",
    "raw_data = \"C:/Users/cactu/Downloads/diabetes.csv\"\n",
    "dataset = pd.read_csv(raw_data, delimiter = ',')\n",
    "print(dataset.shape)\n",
    "#Number of samples\n",
    "df = pd.DataFrame(dataset, index=None)\n",
    "print(len(df))\n",
    "#Number of columns\n",
    "print(len(df.axes[1]))"
   ]
  },
  {
   "cell_type": "code",
   "execution_count": 5,
   "metadata": {},
   "outputs": [
    {
     "name": "stdout",
     "output_type": "stream",
     "text": [
      "9 \n",
      "\n",
      "Pregnancies\n",
      "Glucose\n",
      "BloodPressure\n",
      "SkinThickness\n",
      "Insulin\n",
      "BMI\n",
      "DiabetesPedigreeFunction\n",
      "Age\n",
      "Outcome\n"
     ]
    }
   ],
   "source": [
    "#Number of features and Names\n",
    "print(len(df.axes[1]),'\\n')\n",
    "for col_names in df:\n",
    "    print(col_names)"
   ]
  },
  {
   "cell_type": "code",
   "execution_count": 6,
   "metadata": {},
   "outputs": [
    {
     "data": {
      "text/plain": [
       "(768,)"
      ]
     },
     "execution_count": 6,
     "metadata": {},
     "output_type": "execute_result"
    }
   ],
   "source": [
    "#Shape of target variable column\n",
    "target = df.iloc[:,-1]\n",
    "target.shape"
   ]
  },
  {
   "cell_type": "code",
   "execution_count": 7,
   "metadata": {},
   "outputs": [
    {
     "ename": "NameError",
     "evalue": "name 'X_train' is not defined",
     "output_type": "error",
     "traceback": [
      "\u001b[1;31m---------------------------------------------------------------------------\u001b[0m",
      "\u001b[1;31mNameError\u001b[0m                                 Traceback (most recent call last)",
      "\u001b[1;32m~\\AppData\\Local\\Temp/ipykernel_13996/862365472.py\u001b[0m in \u001b[0;36m<module>\u001b[1;34m\u001b[0m\n\u001b[0;32m      3\u001b[0m \u001b[0mknn\u001b[0m \u001b[1;33m=\u001b[0m \u001b[0mKNeighborsClassifier\u001b[0m\u001b[1;33m(\u001b[0m\u001b[0mn_neighbors\u001b[0m \u001b[1;33m=\u001b[0m \u001b[1;36m3\u001b[0m\u001b[1;33m)\u001b[0m\u001b[1;33m\u001b[0m\u001b[1;33m\u001b[0m\u001b[0m\n\u001b[0;32m      4\u001b[0m \u001b[1;31m# Fit the classifier to the data\u001b[0m\u001b[1;33m\u001b[0m\u001b[1;33m\u001b[0m\u001b[0m\n\u001b[1;32m----> 5\u001b[1;33m \u001b[0mknn\u001b[0m\u001b[1;33m.\u001b[0m\u001b[0mfit\u001b[0m\u001b[1;33m(\u001b[0m\u001b[0mX_train\u001b[0m\u001b[1;33m,\u001b[0m\u001b[0my_train\u001b[0m\u001b[1;33m)\u001b[0m\u001b[1;33m\u001b[0m\u001b[1;33m\u001b[0m\u001b[0m\n\u001b[0m",
      "\u001b[1;31mNameError\u001b[0m: name 'X_train' is not defined"
     ]
    }
   ],
   "source": [
    "from sklearn.neighbors import KNeighborsClassifier\n",
    "knn = KNeighborsClassifier(n_neighbors = 3)\n",
    "knn.fit(X_train,y_train)"
   ]
  },
  {
   "cell_type": "code",
   "execution_count": 15,
   "metadata": {},
   "outputs": [
    {
     "name": "stdout",
     "output_type": "stream",
     "text": [
      "GridSearchCV(cv=5, estimator=KNeighborsClassifier(),\n",
      "             param_grid={'n_neighbors': array([ 1,  2,  3,  4,  5,  6,  7,  8,  9, 10, 11, 12, 13, 14, 15, 16, 17,\n",
      "       18, 19, 20, 21, 22, 23, 24])})\n",
      "{'n_neighbors': 14}\n",
      "0.7578558696205755\n"
     ]
    }
   ],
   "source": [
    "#Machine Learning Classifier\n",
    "from sklearn.model_selection import train_test_split\n",
    "from sklearn.model_selection import GridSearchCV\n",
    "X = df.drop(columns=['Outcome'])\n",
    "y = df['Outcome'].values\n",
    "X_train, X_test, y_train, y_test = train_test_split(X, y, test_size=0.30, random_state=1, stratify=y)\n",
    "knn2 = KNeighborsClassifier()\n",
    "param_grid = {'n_neighbors': np.arange(1, 25)}\n",
    "knn_gscv = GridSearchCV(knn2, param_grid, cv=5)\n",
    "print(knn_gscv.fit(X, y))\n",
    "print(knn_gscv.best_params_)\n",
    "print(knn_gscv.best_score_)"
   ]
  },
  {
   "cell_type": "code",
   "execution_count": 18,
   "metadata": {},
   "outputs": [
    {
     "data": {
      "text/plain": [
       "array([[133,  17],\n",
       "       [ 38,  43]], dtype=int64)"
      ]
     },
     "execution_count": 18,
     "metadata": {},
     "output_type": "execute_result"
    }
   ],
   "source": [
    "from sklearn.preprocessing import StandardScaler\n",
    "from sklearn.svm import SVC\n",
    "from sklearn.metrics import confusion_matrix\n",
    "from sklearn.metrics import precision_score, recall_score, f1_score, accuracy_score\n",
    "\n",
    "#Standardize the data set\n",
    "sc = StandardScaler()\n",
    "sc.fit(X_train)\n",
    "X_train_std = sc.transform(X_train)\n",
    "X_test_std = sc.transform(X_test)\n",
    "\n",
    "#Fit the SVC model\n",
    "svc = SVC(kernel='linear', C=10.0, random_state=1)\n",
    "svc.fit(X_train, y_train)\n",
    "\n",
    "#Get the predictions\n",
    "y_pred = svc.predict(X_test)\n",
    "\n",
    "#Calculate the confusion matrix\n",
    "conf_matrix = confusion_matrix(y_true=y_test, y_pred=y_pred)\n",
    "conf_matrix"
   ]
  },
  {
   "cell_type": "code",
   "execution_count": 69,
   "metadata": {},
   "outputs": [
    {
     "data": {
      "text/plain": [
       "0.75"
      ]
     },
     "execution_count": 69,
     "metadata": {},
     "output_type": "execute_result"
    }
   ],
   "source": [
    "#Presicion\n",
    "Precision_Score = TP / (FP + TP)\n",
    "Precision_Score"
   ]
  },
  {
   "cell_type": "code",
   "execution_count": 71,
   "metadata": {},
   "outputs": [
    {
     "data": {
      "text/plain": [
       "0.625"
      ]
     },
     "execution_count": 71,
     "metadata": {},
     "output_type": "execute_result"
    }
   ],
   "source": [
    "#Accuracy\n",
    "Accuracy_Score = (TP + TN)/ (TP + FN + TN + FP)\n",
    "Accuracy_Score"
   ]
  },
  {
   "cell_type": "code",
   "execution_count": 70,
   "metadata": {},
   "outputs": [
    {
     "data": {
      "text/plain": [
       "0.6"
      ]
     },
     "execution_count": 70,
     "metadata": {},
     "output_type": "execute_result"
    }
   ],
   "source": [
    "#Recall\n",
    "Recall_Score = TP / (FN + TP)\n",
    "Recall_Score"
   ]
  },
  {
   "cell_type": "code",
   "execution_count": 73,
   "metadata": {},
   "outputs": [
    {
     "data": {
      "text/plain": [
       "0.6666666666666665"
      ]
     },
     "execution_count": 73,
     "metadata": {},
     "output_type": "execute_result"
    }
   ],
   "source": [
    "#F-1 Score\n",
    "F1_Score = 2* Precision_Score * Recall_Score/ (Precision_Score + Recall_Score)\n",
    "F1_Score"
   ]
  },
  {
   "cell_type": "code",
   "execution_count": 24,
   "metadata": {},
   "outputs": [
    {
     "data": {
      "text/plain": [
       "(208, 10)"
      ]
     },
     "execution_count": 24,
     "metadata": {},
     "output_type": "execute_result"
    }
   ],
   "source": [
    "#Question 2\n",
    "import numpy as np\n",
    "import pandas as pd\n",
    "raw_data = (\"C:/Users/cactu/Downloads/machine.data\")\n",
    "x = pd.read_csv(raw_data, sep=',')\n",
    "df = pd.DataFrame(x, index = None)\n",
    "df.shape"
   ]
  },
  {
   "cell_type": "code",
   "execution_count": 25,
   "metadata": {},
   "outputs": [
    {
     "data": {
      "text/plain": [
       "208"
      ]
     },
     "execution_count": 25,
     "metadata": {},
     "output_type": "execute_result"
    }
   ],
   "source": [
    "#Number of samples\n",
    "length = len(df)\n",
    "length"
   ]
  },
  {
   "cell_type": "code",
   "execution_count": 26,
   "metadata": {},
   "outputs": [
    {
     "name": "stdout",
     "output_type": "stream",
     "text": [
      "10 \n",
      "\n",
      "adviser\n",
      "32/60\n",
      "125\n",
      "256\n",
      "6000\n",
      "256.1\n",
      "16\n",
      "128\n",
      "198\n",
      "199\n"
     ]
    }
   ],
   "source": [
    "#Number of features and names\n",
    "print(len(df.axes[1]),'\\n')\n",
    "for col in df.columns:\n",
    "    print(col)"
   ]
  },
  {
   "cell_type": "code",
   "execution_count": 27,
   "metadata": {},
   "outputs": [
    {
     "data": {
      "text/plain": [
       "(208,)"
      ]
     },
     "execution_count": 27,
     "metadata": {},
     "output_type": "execute_result"
    }
   ],
   "source": [
    "#Shape of target column\n",
    "target = df.iloc[:,-1]\n",
    "target.shape"
   ]
  },
  {
   "cell_type": "code",
   "execution_count": 33,
   "metadata": {},
   "outputs": [
    {
     "name": "stdout",
     "output_type": "stream",
     "text": [
      "[[ 269]\n",
      " [ 220]\n",
      " [ 172]\n",
      " [ 132]\n",
      " [ 318]\n",
      " [ 367]\n",
      " [ 489]\n",
      " [ 636]\n",
      " [1144]\n",
      " [  38]\n",
      " [  40]\n",
      " [  92]\n",
      " [ 138]\n",
      " [  10]\n",
      " [  35]\n",
      " [  19]\n",
      " [  28]\n",
      " [  31]\n",
      " [ 120]\n",
      " [  30]\n",
      " [  33]\n",
      " [  61]\n",
      " [  76]\n",
      " [  23]\n",
      " [  69]\n",
      " [  33]\n",
      " [  27]\n",
      " [  77]\n",
      " [  27]\n",
      " [ 274]\n",
      " [ 368]\n",
      " [  32]\n",
      " [  63]\n",
      " [ 106]\n",
      " [ 208]\n",
      " [  20]\n",
      " [  29]\n",
      " [  71]\n",
      " [  26]\n",
      " [  36]\n",
      " [  40]\n",
      " [  52]\n",
      " [  60]\n",
      " [  72]\n",
      " [  72]\n",
      " [  18]\n",
      " [  20]\n",
      " [  40]\n",
      " [  62]\n",
      " [  24]\n",
      " [  24]\n",
      " [ 138]\n",
      " [  36]\n",
      " [  26]\n",
      " [  60]\n",
      " [  71]\n",
      " [  12]\n",
      " [  14]\n",
      " [  20]\n",
      " [  16]\n",
      " [  22]\n",
      " [  36]\n",
      " [ 144]\n",
      " [ 144]\n",
      " [ 259]\n",
      " [  17]\n",
      " [  26]\n",
      " [  32]\n",
      " [  32]\n",
      " [  62]\n",
      " [  64]\n",
      " [  22]\n",
      " [  36]\n",
      " [  44]\n",
      " [  50]\n",
      " [  45]\n",
      " [  53]\n",
      " [  36]\n",
      " [  84]\n",
      " [  16]\n",
      " [  38]\n",
      " [  38]\n",
      " [  16]\n",
      " [  22]\n",
      " [  29]\n",
      " [  40]\n",
      " [  35]\n",
      " [ 134]\n",
      " [  66]\n",
      " [ 141]\n",
      " [ 189]\n",
      " [  22]\n",
      " [ 132]\n",
      " [ 237]\n",
      " [ 465]\n",
      " [ 465]\n",
      " [ 277]\n",
      " [ 185]\n",
      " [   6]\n",
      " [  24]\n",
      " [  45]\n",
      " [   7]\n",
      " [  13]\n",
      " [  16]\n",
      " [  32]\n",
      " [  32]\n",
      " [  11]\n",
      " [  11]\n",
      " [  18]\n",
      " [  22]\n",
      " [  37]\n",
      " [  40]\n",
      " [  34]\n",
      " [  50]\n",
      " [  76]\n",
      " [  66]\n",
      " [  24]\n",
      " [  49]\n",
      " [  66]\n",
      " [ 100]\n",
      " [ 133]\n",
      " [  12]\n",
      " [  18]\n",
      " [  20]\n",
      " [  27]\n",
      " [  45]\n",
      " [  56]\n",
      " [  70]\n",
      " [  80]\n",
      " [ 136]\n",
      " [  16]\n",
      " [  26]\n",
      " [  32]\n",
      " [  45]\n",
      " [  54]\n",
      " [  65]\n",
      " [  30]\n",
      " [  50]\n",
      " [  40]\n",
      " [  62]\n",
      " [  60]\n",
      " [  50]\n",
      " [  66]\n",
      " [  86]\n",
      " [  74]\n",
      " [  93]\n",
      " [ 111]\n",
      " [ 143]\n",
      " [ 105]\n",
      " [ 214]\n",
      " [ 277]\n",
      " [ 370]\n",
      " [ 510]\n",
      " [ 214]\n",
      " [ 326]\n",
      " [ 510]\n",
      " [   8]\n",
      " [  12]\n",
      " [  17]\n",
      " [  21]\n",
      " [  24]\n",
      " [  34]\n",
      " [  42]\n",
      " [  46]\n",
      " [  51]\n",
      " [ 116]\n",
      " [ 100]\n",
      " [ 140]\n",
      " [ 212]\n",
      " [  25]\n",
      " [  30]\n",
      " [  41]\n",
      " [  25]\n",
      " [  50]\n",
      " [  50]\n",
      " [  30]\n",
      " [  32]\n",
      " [  38]\n",
      " [  60]\n",
      " [ 109]\n",
      " [   6]\n",
      " [  11]\n",
      " [  22]\n",
      " [  33]\n",
      " [  58]\n",
      " [ 130]\n",
      " [  75]\n",
      " [ 113]\n",
      " [ 188]\n",
      " [ 173]\n",
      " [ 248]\n",
      " [ 405]\n",
      " [  70]\n",
      " [ 114]\n",
      " [ 208]\n",
      " [ 307]\n",
      " [ 397]\n",
      " [ 915]\n",
      " [1150]\n",
      " [  12]\n",
      " [  14]\n",
      " [  18]\n",
      " [  21]\n",
      " [  42]\n",
      " [  46]\n",
      " [  52]\n",
      " [  67]\n",
      " [  45]]\n",
      "[[ 253]\n",
      " [ 253]\n",
      " [ 253]\n",
      " [ 132]\n",
      " [ 290]\n",
      " [ 381]\n",
      " [ 381]\n",
      " [ 749]\n",
      " [1238]\n",
      " [  23]\n",
      " [  24]\n",
      " [  70]\n",
      " [ 117]\n",
      " [  15]\n",
      " [  64]\n",
      " [  23]\n",
      " [  29]\n",
      " [  22]\n",
      " [ 124]\n",
      " [  35]\n",
      " [  39]\n",
      " [  40]\n",
      " [  45]\n",
      " [  28]\n",
      " [  21]\n",
      " [  28]\n",
      " [  22]\n",
      " [  28]\n",
      " [  27]\n",
      " [ 102]\n",
      " [ 102]\n",
      " [  74]\n",
      " [  74]\n",
      " [ 138]\n",
      " [ 136]\n",
      " [  23]\n",
      " [  29]\n",
      " [  44]\n",
      " [  30]\n",
      " [  41]\n",
      " [  74]\n",
      " [  74]\n",
      " [  74]\n",
      " [  54]\n",
      " [  41]\n",
      " [  18]\n",
      " [  28]\n",
      " [  36]\n",
      " [  38]\n",
      " [  34]\n",
      " [  19]\n",
      " [  72]\n",
      " [  36]\n",
      " [  30]\n",
      " [  56]\n",
      " [  42]\n",
      " [  34]\n",
      " [  34]\n",
      " [  34]\n",
      " [  34]\n",
      " [  34]\n",
      " [  19]\n",
      " [  75]\n",
      " [ 113]\n",
      " [ 157]\n",
      " [  18]\n",
      " [  20]\n",
      " [  28]\n",
      " [  33]\n",
      " [  47]\n",
      " [  54]\n",
      " [  20]\n",
      " [  23]\n",
      " [  25]\n",
      " [  52]\n",
      " [  27]\n",
      " [  50]\n",
      " [  18]\n",
      " [  53]\n",
      " [  23]\n",
      " [  30]\n",
      " [  73]\n",
      " [  20]\n",
      " [  25]\n",
      " [  28]\n",
      " [  29]\n",
      " [  32]\n",
      " [ 175]\n",
      " [  57]\n",
      " [ 181]\n",
      " [ 181]\n",
      " [  32]\n",
      " [  82]\n",
      " [ 171]\n",
      " [ 361]\n",
      " [ 350]\n",
      " [ 220]\n",
      " [ 113]\n",
      " [  15]\n",
      " [  21]\n",
      " [  35]\n",
      " [  18]\n",
      " [  20]\n",
      " [  20]\n",
      " [  28]\n",
      " [  45]\n",
      " [  18]\n",
      " [  17]\n",
      " [  26]\n",
      " [  28]\n",
      " [  28]\n",
      " [  31]\n",
      " [  31]\n",
      " [  42]\n",
      " [  76]\n",
      " [  76]\n",
      " [  26]\n",
      " [  59]\n",
      " [  65]\n",
      " [ 101]\n",
      " [ 116]\n",
      " [  18]\n",
      " [  20]\n",
      " [  20]\n",
      " [  30]\n",
      " [  44]\n",
      " [  44]\n",
      " [  82]\n",
      " [  82]\n",
      " [ 128]\n",
      " [  37]\n",
      " [  46]\n",
      " [  46]\n",
      " [  80]\n",
      " [  88]\n",
      " [  88]\n",
      " [  33]\n",
      " [  46]\n",
      " [  29]\n",
      " [  53]\n",
      " [  53]\n",
      " [  41]\n",
      " [  86]\n",
      " [  95]\n",
      " [ 107]\n",
      " [ 117]\n",
      " [ 119]\n",
      " [ 120]\n",
      " [  48]\n",
      " [ 126]\n",
      " [ 266]\n",
      " [ 270]\n",
      " [ 426]\n",
      " [ 151]\n",
      " [ 267]\n",
      " [ 603]\n",
      " [  19]\n",
      " [  21]\n",
      " [  26]\n",
      " [  35]\n",
      " [  41]\n",
      " [  47]\n",
      " [  62]\n",
      " [  78]\n",
      " [  80]\n",
      " [  80]\n",
      " [ 142]\n",
      " [ 281]\n",
      " [ 190]\n",
      " [  21]\n",
      " [  25]\n",
      " [  67]\n",
      " [  24]\n",
      " [  24]\n",
      " [  64]\n",
      " [  25]\n",
      " [  20]\n",
      " [  29]\n",
      " [  43]\n",
      " [  53]\n",
      " [  19]\n",
      " [  22]\n",
      " [  31]\n",
      " [  41]\n",
      " [  47]\n",
      " [  99]\n",
      " [  67]\n",
      " [  81]\n",
      " [ 149]\n",
      " [ 183]\n",
      " [ 275]\n",
      " [ 382]\n",
      " [  56]\n",
      " [ 182]\n",
      " [ 227]\n",
      " [ 341]\n",
      " [ 360]\n",
      " [ 919]\n",
      " [ 978]\n",
      " [  24]\n",
      " [  24]\n",
      " [  24]\n",
      " [  24]\n",
      " [  37]\n",
      " [  50]\n",
      " [  41]\n",
      " [  47]\n",
      " [  25]]\n",
      "[-0.4251023]\n"
     ]
    },
    {
     "name": "stderr",
     "output_type": "stream",
     "text": [
      "C:\\Users\\cactu\\anaconda3\\lib\\site-packages\\sklearn\\utils\\validation.py:63: DataConversionWarning: A column-vector y was passed when a 1d array was expected. Please change the shape of y to (n_samples, ), for example using ravel().\n",
      "  return f(*args, **kwargs)\n"
     ]
    },
    {
     "data": {
      "text/plain": [
       "array([[33.12930511]])"
      ]
     },
     "execution_count": 33,
     "metadata": {},
     "output_type": "execute_result"
    }
   ],
   "source": [
    "#Machine Learning Regression Model\n",
    "from sklearn.svm import SVR\n",
    "from sklearn.preprocessing import StandardScaler\n",
    "X_l = df.iloc[:, 8:-1].values\n",
    "y_p = df.iloc[:, -1].values\n",
    "\n",
    "y_p = y_p.reshape(-1,1)\n",
    "\n",
    "print(X_l)\n",
    "print(y_p)\n",
    "\n",
    "StdS_X = StandardScaler()\n",
    "StdS_y = StandardScaler()\n",
    "\n",
    "X_l = StdS_X.fit_transform(X_l)\n",
    "y_p = StdS_y.fit_transform(y_p)\n",
    "#Prediction of CPU performance\n",
    "regressor = SVR(kernel = 'rbf')\n",
    "regressor.fit(X_l, y_p)\n",
    "A=regressor.predict(StdS_X.transform([[6.5]]))\n",
    "print(A)\n",
    "B_pred = StdS_y.inverse_transform(regressor.predict(StdS_X.transform([[6.5]])).reshape(-1,1))\n",
    "B_pred"
   ]
  },
  {
   "cell_type": "code",
   "execution_count": 30,
   "metadata": {},
   "outputs": [
    {
     "data": {
      "text/plain": [
       "33.55440741263391"
      ]
     },
     "execution_count": 30,
     "metadata": {},
     "output_type": "execute_result"
    }
   ],
   "source": [
    "#Mean absolute error\n",
    "from sklearn.metrics import mean_absolute_error\n",
    "mean_absolute_error(A, B_pred)"
   ]
  },
  {
   "cell_type": "code",
   "execution_count": 31,
   "metadata": {},
   "outputs": [
    {
     "data": {
      "text/plain": [
       "1125.8982568130214"
      ]
     },
     "execution_count": 31,
     "metadata": {},
     "output_type": "execute_result"
    }
   ],
   "source": [
    "#Mean Square error\n",
    "from sklearn.metrics import mean_squared_error\n",
    "mean_squared_error(A, B_pred)"
   ]
  }
 ],
 "metadata": {
  "kernelspec": {
   "display_name": "Python 3 (ipykernel)",
   "language": "python",
   "name": "python3"
  },
  "language_info": {
   "codemirror_mode": {
    "name": "ipython",
    "version": 3
   },
   "file_extension": ".py",
   "mimetype": "text/x-python",
   "name": "python",
   "nbconvert_exporter": "python",
   "pygments_lexer": "ipython3",
   "version": "3.9.7"
  }
 },
 "nbformat": 4,
 "nbformat_minor": 4
}
